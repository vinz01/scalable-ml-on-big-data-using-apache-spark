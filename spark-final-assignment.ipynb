{
 "cells": [
  {
   "cell_type": "markdown",
   "metadata": {},
   "source": [
    "The final project of “Apache Spark for Scalable Machine Learning on BigData”. In this assignment you’ll analyze a real-world dataset and apply machine learning on it using Apache Spark. \n",
    "\n",
    "This dataset can be found on DAX, the IBM Data Asset Exchange and can be downloaded for free.\n",
    "\n",
    "https://developer.ibm.com/exchanges/data/all/jfk-weather-data/\n"
   ]
  },
  {
   "cell_type": "code",
   "execution_count": 1,
   "metadata": {},
   "outputs": [
    {
     "name": "stdout",
     "output_type": "stream",
     "text": [
      "Waiting for a Spark session to start...\n",
      "Spark Initialization Done! ApplicationId = app-20200105131353-0000\n",
      "KERNEL_ID = 5c69b285-236f-430f-b3d4-4a61f89b75de\n",
      "--2020-01-05 13:13:56--  http://max-training-data.s3-api.us-geo.objectstorage.softlayer.net/noaa-weather/jfk_weather.tar.gz\n",
      "Resolving max-training-data.s3-api.us-geo.objectstorage.softlayer.net (max-training-data.s3-api.us-geo.objectstorage.softlayer.net)... 67.228.254.196\n",
      "Connecting to max-training-data.s3-api.us-geo.objectstorage.softlayer.net (max-training-data.s3-api.us-geo.objectstorage.softlayer.net)|67.228.254.196|:80... connected.\n",
      "HTTP request sent, awaiting response... 200 OK\n",
      "Length: 2575759 (2.5M) [application/x-tar]\n",
      "Saving to: 'jfk_weather.tar.gz'\n",
      "\n",
      "100%[======================================>] 2,575,759   1.93MB/s   in 1.3s   \n",
      "\n",
      "2020-01-05 13:14:03 (1.93 MB/s) - 'jfk_weather.tar.gz' saved [2575759/2575759]\n",
      "\n",
      "./._jfk_weather.csv\n",
      "jfk_weather.csv\n"
     ]
    }
   ],
   "source": [
    "# delete files from previous runs\n",
    "!rm -f jfk_weather*\n",
    "\n",
    "# download the file containing the data in CSV format\n",
    "!wget http://max-training-data.s3-api.us-geo.objectstorage.softlayer.net/noaa-weather/jfk_weather.tar.gz\n",
    "\n",
    "# extract the data\n",
    "!tar xvfz jfk_weather.tar.gz\n",
    "    \n",
    "# create a dataframe out of it by using the first row as field names and trying to infer a schema based on contents\n",
    "df = spark.read.option(\"header\", \"true\").option(\"inferSchema\",\"true\").csv('jfk_weather.csv')\n",
    "\n",
    "# register a corresponding query table\n",
    "df.createOrReplaceTempView('df')"
   ]
  },
  {
   "cell_type": "markdown",
   "metadata": {},
   "source": [
    "The dataset contains some null values, therefore schema inference didn’t work properly for all columns, in addition, a column contained trailing characters, so we need to clean up the data set first. This is a normal task in any data science project since your data is never clean. Write a code to clean the dataset."
   ]
  },
  {
   "cell_type": "code",
   "execution_count": 2,
   "metadata": {},
   "outputs": [],
   "source": [
    "import random\n",
    "random.seed(42)\n",
    "\n",
    "from pyspark.sql.functions import translate, col\n",
    "\n",
    "df_cleaned = df \\\n",
    "    .withColumn(\"HOURLYWindSpeed\", df.HOURLYWindSpeed.cast('double')) \\\n",
    "    .withColumn(\"HOURLYWindDirection\", df.HOURLYWindDirection.cast('double')) \\\n",
    "    .withColumn(\"HOURLYStationPressure\", translate(col(\"HOURLYStationPressure\"), \"s,\", \"\")) \\\n",
    "    .withColumn(\"HOURLYPrecip\", translate(col(\"HOURLYPrecip\"), \"s,\", \"\")) \\\n",
    "    .withColumn(\"HOURLYRelativeHumidity\", translate(col(\"HOURLYRelativeHumidity\"), \"*\", \"\")) \\\n",
    "    .withColumn(\"HOURLYDRYBULBTEMPC\", translate(col(\"HOURLYDRYBULBTEMPC\"), \"*\", \"\")) \\\n",
    "\n",
    "df_cleaned =   df_cleaned \\\n",
    "                    .withColumn(\"HOURLYStationPressure\", df_cleaned.HOURLYStationPressure.cast('double')) \\\n",
    "                    .withColumn(\"HOURLYPrecip\", df_cleaned.HOURLYPrecip.cast('double')) \\\n",
    "                    .withColumn(\"HOURLYRelativeHumidity\", df_cleaned.HOURLYRelativeHumidity.cast('double')) \\\n",
    "                    .withColumn(\"HOURLYDRYBULBTEMPC\", df_cleaned.HOURLYDRYBULBTEMPC.cast('double')) \\\n",
    "\n",
    "df_filtered = df_cleaned.filter(\"\"\"\n",
    "    HOURLYWindSpeed <> 0\n",
    "    and HOURLYWindDirection <> 0\n",
    "    and HOURLYStationPressure <> 0\n",
    "    and HOURLYPressureTendency <> 0\n",
    "    and HOURLYPressureTendency <> 0\n",
    "    and HOURLYPrecip <> 0\n",
    "    and HOURLYRelativeHumidity <> 0\n",
    "    and HOURLYDRYBULBTEMPC <> 0\n",
    "\"\"\")"
   ]
  },
  {
   "cell_type": "markdown",
   "metadata": {},
   "source": [
    "We want to predict the value of one column based of some others. It is sometimes helpful to print a correlation matrix. Print the correlation matrix."
   ]
  },
  {
   "cell_type": "code",
   "execution_count": 15,
   "metadata": {},
   "outputs": [
    {
     "data": {
      "text/plain": [
       "array([[ 1.        ,  0.06432947, -0.4204518 ],\n",
       "       [ 0.06432947,  1.        ,  0.00581104],\n",
       "       [-0.4204518 ,  0.00581104,  1.        ]])"
      ]
     },
     "execution_count": 15,
     "metadata": {},
     "output_type": "execute_result"
    }
   ],
   "source": [
    "from pyspark.ml.feature import VectorAssembler\n",
    "vectorAssembler = VectorAssembler(inputCols=[\"HOURLYWindSpeed\",\"HOURLYPressureTendency\",\"HOURLYStationPressure\"],\n",
    "                                  outputCol=\"features\")\n",
    "df_pipeline = vectorAssembler.transform(df_filtered)\n",
    "from pyspark.ml.stat import Correlation\n",
    "Correlation.corr(df_pipeline,\"features\").head()[0].toArray()"
   ]
  },
  {
   "cell_type": "markdown",
   "metadata": {},
   "source": [
    "As we can see, HOURLYWindSpeed and HOURLYWindDirection correlate with 0.06306013 whereas HOURLYWindSpeed  and HOURLYStationPressure correlate with -0.4204518, this is a good sign if we want to predict HOURLYWindSpeed from HOURLYWindDirection and HOURLYStationPressure.\n",
    "Since this is supervised learning, let’s split our data into train (80%) and test (20%) set."
   ]
  },
  {
   "cell_type": "code",
   "execution_count": 4,
   "metadata": {},
   "outputs": [
    {
     "name": "stdout",
     "output_type": "stream",
     "text": [
      "+----------+--------------------+---------+--------+---------+----------------+----------+--------------------+----------------+-----------------------+------------------+------------------+------------------+------------------+-------------------+-------------------+----------------------+---------------+-------------------+-------------------+---------------------+----------------------+--------------------+----------------------+------------+----------------------+-----------------------+-----------------------+-----------------------+------------------------------+----------------------------+------------------------+-----------------------+----------------------+----------------------+------------+-----------+------------+-----------+-------------+--------------+---------------------------+----------------------------+---------------------+------------------+-----------------+-----------------------+---------------------------+------------------+------------------+---------------+----------------+-------------------+------------------+---------------------------+---------------------------+----------------------+-----------------------+-----------------------+--------------------+--------------------------------+--------------------------------+--------------------------------+---------------------------+------------------------+---------------------+-------------------------+-----------------------+---------------------------+------------------------+----------------------------+-----------------------+-----------------------+-----------------------+----------------------+--------------------------+--------------------------+----------------------+-------------------------------+------------------------------+------------------------------+-------------------------------+------------------------------+------------------------------+-----------------------------+-----------------------------+------------------------------+------------------------------+---------------------------------+---------------------------------+\n",
      "|   STATION|        STATION_NAME|ELEVATION|LATITUDE|LONGITUDE|            DATE|REPORTTPYE| HOURLYSKYCONDITIONS|HOURLYVISIBILITY|HOURLYPRSENTWEATHERTYPE|HOURLYDRYBULBTEMPF|HOURLYDRYBULBTEMPC|HOURLYWETBULBTEMPF|HOURLYWETBULBTEMPC|HOURLYDewPointTempF|HOURLYDewPointTempC|HOURLYRelativeHumidity|HOURLYWindSpeed|HOURLYWindDirection|HOURLYWindGustSpeed|HOURLYStationPressure|HOURLYPressureTendency|HOURLYPressureChange|HOURLYSeaLevelPressure|HOURLYPrecip|HOURLYAltimeterSetting|DAILYMaximumDryBulbTemp|DAILYMinimumDryBulbTemp|DAILYAverageDryBulbTemp|DAILYDeptFromNormalAverageTemp|DAILYAverageRelativeHumidity|DAILYAverageDewPointTemp|DAILYAverageWetBulbTemp|DAILYHeatingDegreeDays|DAILYCoolingDegreeDays|DAILYSunrise|DAILYSunset|DAILYWeather|DAILYPrecip|DAILYSnowfall|DAILYSnowDepth|DAILYAverageStationPressure|DAILYAverageSeaLevelPressure|DAILYAverageWindSpeed|DAILYPeakWindSpeed|PeakWindDirection|DAILYSustainedWindSpeed|DAILYSustainedWindDirection|MonthlyMaximumTemp|MonthlyMinimumTemp|MonthlyMeanTemp|MonthlyAverageRH|MonthlyDewpointTemp|MonthlyWetBulbTemp|MonthlyAvgHeatingDegreeDays|MonthlyAvgCoolingDegreeDays|MonthlyStationPressure|MonthlySeaLevelPressure|MonthlyAverageWindSpeed|MonthlyTotalSnowfall|MonthlyDeptFromNormalMaximumTemp|MonthlyDeptFromNormalMinimumTemp|MonthlyDeptFromNormalAverageTemp|MonthlyDeptFromNormalPrecip|MonthlyTotalLiquidPrecip|MonthlyGreatestPrecip|MonthlyGreatestPrecipDate|MonthlyGreatestSnowfall|MonthlyGreatestSnowfallDate|MonthlyGreatestSnowDepth|MonthlyGreatestSnowDepthDate|MonthlyDaysWithGT90Temp|MonthlyDaysWithLT32Temp|MonthlyDaysWithGT32Temp|MonthlyDaysWithLT0Temp|MonthlyDaysWithGT001Precip|MonthlyDaysWithGT010Precip|MonthlyDaysWithGT1Snow|MonthlyMaxSeaLevelPressureValue|MonthlyMaxSeaLevelPressureDate|MonthlyMaxSeaLevelPressureTime|MonthlyMinSeaLevelPressureValue|MonthlyMinSeaLevelPressureDate|MonthlyMinSeaLevelPressureTime|MonthlyTotalHeatingDegreeDays|MonthlyTotalCoolingDegreeDays|MonthlyDeptFromNormalHeatingDD|MonthlyDeptFromNormalCoolingDD|MonthlyTotalSeasonToDateHeatingDD|MonthlyTotalSeasonToDateCoolingDD|\n",
      "+----------+--------------------+---------+--------+---------+----------------+----------+--------------------+----------------+-----------------------+------------------+------------------+------------------+------------------+-------------------+-------------------+----------------------+---------------+-------------------+-------------------+---------------------+----------------------+--------------------+----------------------+------------+----------------------+-----------------------+-----------------------+-----------------------+------------------------------+----------------------------+------------------------+-----------------------+----------------------+----------------------+------------+-----------+------------+-----------+-------------+--------------+---------------------------+----------------------------+---------------------+------------------+-----------------+-----------------------+---------------------------+------------------+------------------+---------------+----------------+-------------------+------------------+---------------------------+---------------------------+----------------------+-----------------------+-----------------------+--------------------+--------------------------------+--------------------------------+--------------------------------+---------------------------+------------------------+---------------------+-------------------------+-----------------------+---------------------------+------------------------+----------------------------+-----------------------+-----------------------+-----------------------+----------------------+--------------------------+--------------------------+----------------------+-------------------------------+------------------------------+------------------------------+-------------------------------+------------------------------+------------------------------+-----------------------------+-----------------------------+------------------------------+------------------------------+---------------------------------+---------------------------------+\n",
      "|WBAN:94789|JFK INTERNATIONAL...|      3.4| 40.6386| -73.7622|2010-01-17 12:51|     FM-15|FEW:02 35 BKN:07 ...|            6.00|                ||RA:61|                40|               4.4|                37|               2.8|                 33|                0.6|                  77.0|           10.0|               80.0|               null|                29.98|                     8|                null|                 30.00|        0.02|                 30.00|                   null|                   null|                   null|                          null|                        null|                    null|                   null|                  null|                  null|         716|       1655|        null|       null|         null|          null|                       null|                        null|                 null|              null|             null|                   null|                       null|              null|              null|           null|            null|               null|              null|                       null|                       null|                  null|                   null|                   null|                null|                            null|                            null|                            null|                       null|                    null|                 null|                     null|                   null|                       null|                    null|                        null|                   null|                   null|                   null|                  null|                      null|                      null|                  null|                           null|                         -9999|                         -9999|                           null|                         -9999|                         -9999|                         null|                         null|                          null|                          null|                             null|                             null|\n",
      "|WBAN:94789|JFK INTERNATIONAL...|      3.4| 40.6386| -73.7622|2010-01-17 15:51|     FM-15|FEW:02 8 BKN:07 1...|            5.00|   -RA:02 BR:1 |RA:6...|                39|               3.9|                38|               3.2|                 36|                2.2|                  89.0|           20.0|               70.0|               null|                29.84|                     8|                null|                 29.86|        0.07|                 29.86|                   null|                   null|                   null|                          null|                        null|                    null|                   null|                  null|                  null|         716|       1655|        null|       null|         null|          null|                       null|                        null|                 null|              null|             null|                   null|                       null|              null|              null|           null|            null|               null|              null|                       null|                       null|                  null|                   null|                   null|                null|                            null|                            null|                            null|                       null|                    null|                 null|                     null|                   null|                       null|                    null|                        null|                   null|                   null|                   null|                  null|                      null|                      null|                  null|                           null|                         -9999|                         -9999|                           null|                         -9999|                         -9999|                         null|                         null|                          null|                          null|                             null|                             null|\n",
      "|WBAN:94789|JFK INTERNATIONAL...|      3.4| 40.6386| -73.7622|2010-01-17 18:51|     FM-15|   SCT:04 3 OVC:08 8|            2.50|   +RA:02 BR:1 |RA:6...|                39|               3.9|                39|               3.6|                 38|                3.3|                  96.0|           11.0|               50.0|               null|                29.76|                     6|                null|                 29.78|        0.15|                 29.78|                   null|                   null|                   null|                          null|                        null|                    null|                   null|                  null|                  null|         716|       1655|        null|       null|         null|          null|                       null|                        null|                 null|              null|             null|                   null|                       null|              null|              null|           null|            null|               null|              null|                       null|                       null|                  null|                   null|                   null|                null|                            null|                            null|                            null|                       null|                    null|                 null|                     null|                   null|                       null|                    null|                        null|                   null|                   null|                   null|                  null|                      null|                      null|                  null|                           null|                         -9999|                         -9999|                           null|                         -9999|                         -9999|                         null|                         null|                          null|                          null|                             null|                             null|\n",
      "|WBAN:94789|JFK INTERNATIONAL...|      3.4| 40.6386| -73.7622|2010-01-17 21:51|     FM-15|SCT:04 3 BKN:07 8...|            3.00|   -RA:02 BR:1 |RA:6...|                39|               3.9|                38|               3.4|                 37|                2.8|                  93.0|           23.0|               40.0|                 29|                29.58|                     8|                null|                 29.60|        0.02|                 29.60|                   null|                   null|                   null|                          null|                        null|                    null|                   null|                  null|                  null|         716|       1656|        null|       null|         null|          null|                       null|                        null|                 null|              null|             null|                   null|                       null|              null|              null|           null|            null|               null|              null|                       null|                       null|                  null|                   null|                   null|                null|                            null|                            null|                            null|                       null|                    null|                 null|                     null|                   null|                       null|                    null|                        null|                   null|                   null|                   null|                  null|                      null|                      null|                  null|                           null|                         -9999|                         -9999|                           null|                         -9999|                         -9999|                         null|                         null|                          null|                          null|                             null|                             null|\n",
      "|WBAN:94789|JFK INTERNATIONAL...|      3.4| 40.6386| -73.7622|2010-01-18 00:51|     FM-15|           OVC:08 11|            4.00|   -RA:02 BR:1 |RA:6...|                39|               3.9|                38|               3.2|                 36|                2.2|                  89.0|           25.0|               30.0|                 31|                29.45|                     6|                null|                 29.47|        0.01|                 29.47|                   null|                   null|                   null|                          null|                        null|                    null|                   null|                  null|                  null|         716|       1656|        null|       null|         null|          null|                       null|                        null|                 null|              null|             null|                   null|                       null|              null|              null|           null|            null|               null|              null|                       null|                       null|                  null|                   null|                   null|                null|                            null|                            null|                            null|                       null|                    null|                 null|                     null|                   null|                       null|                    null|                        null|                   null|                   null|                   null|                  null|                      null|                      null|                  null|                           null|                         -9999|                         -9999|                           null|                         -9999|                         -9999|                         null|                         null|                          null|                          null|                             null|                             null|\n",
      "|WBAN:94789|JFK INTERNATIONAL...|      3.4| 40.6386| -73.7622|2010-01-25 06:51|     FM-15|FEW:02 13 BKN:07 ...|            5.00|   -RA:02 BR:1 |RA:6...|                51|              10.6|                49|               9.7|                 48|                8.9|                  89.0|           29.0|              150.0|                 40|                 29.6|                     8|                null|                 29.62|        0.01|                 29.62|                   null|                   null|                   null|                          null|                        null|                    null|                   null|                  null|                  null|         711|       1704|        null|       0.01|         null|          null|                       null|                        null|                 null|              null|             null|                   null|                       null|              null|              null|           null|            null|               null|              null|                       null|                       null|                  null|                   null|                   null|                null|                            null|                            null|                            null|                       null|                    null|                 null|                     null|                   null|                       null|                    null|                        null|                   null|                   null|                   null|                  null|                      null|                      null|                  null|                           null|                         -9999|                         -9999|                           null|                         -9999|                         -9999|                         null|                         null|                          null|                          null|                             null|                             null|\n",
      "|WBAN:94789|JFK INTERNATIONAL...|      3.4| 40.6386| -73.7622|2010-01-25 09:51|     FM-15|  FEW:02 8 OVC:08 13|            1.50|   RA:02 BR:1 |RA:62...|                52|              11.1|                51|              10.5|                 50|               10.0|                  93.0|           33.0|              140.0|                 43|                29.46|                     8|                null|                 29.48|        0.09|                 29.48|                   null|                   null|                   null|                          null|                        null|                    null|                   null|                  null|                  null|         711|       1704|        null|       null|         null|          null|                       null|                        null|                 null|              null|             null|                   null|                       null|              null|              null|           null|            null|               null|              null|                       null|                       null|                  null|                   null|                   null|                null|                            null|                            null|                            null|                       null|                    null|                 null|                     null|                   null|                       null|                    null|                        null|                   null|                   null|                   null|                  null|                      null|                      null|                  null|                           null|                         -9999|                         -9999|                           null|                         -9999|                         -9999|                         null|                         null|                          null|                          null|                             null|                             null|\n",
      "|WBAN:94789|JFK INTERNATIONAL...|      3.4| 40.6386| -73.7622|2010-01-25 12:51|     FM-15|  BKN:07 6 OVC:08 22|            0.75|   +RA:02 BR:1 |RA:6...|                53|              11.7|                52|              11.1|                 51|               10.6|                  93.0|           39.0|              170.0|                 52|                29.33|                     5|                null|                 29.35|        0.11|                 29.35|                   null|                   null|                   null|                          null|                        null|                    null|                   null|                  null|                  null|         711|       1704|        null|       null|         null|          null|                       null|                        null|                 null|              null|             null|                   null|                       null|              null|              null|           null|            null|               null|              null|                       null|                       null|                  null|                   null|                   null|                null|                            null|                            null|                            null|                       null|                    null|                 null|                     null|                   null|                       null|                    null|                        null|                   null|                   null|                   null|                  null|                      null|                      null|                  null|                           null|                         -9999|                         -9999|                           null|                         -9999|                         -9999|                         null|                         null|                          null|                          null|                             null|                             null|\n",
      "|WBAN:94789|JFK INTERNATIONAL...|      3.4| 40.6386| -73.7622|2010-02-03 00:51|     FM-15|FEW:02 12 BKN:07 ...|            7.00|        -SN:03 |SN:71 ||                29|              -1.7|                27|              -2.6|                 24|               -4.4|                  82.0|            8.0|               30.0|               null|                30.06|                     8|                null|                 30.08|        0.01|                 30.08|                   null|                   null|                   null|                          null|                        null|                    null|                   null|                  null|                  null|         703|       1715|        null|       null|         null|          null|                       null|                        null|                 null|              null|             null|                   null|                       null|              null|              null|           null|            null|               null|              null|                       null|                       null|                  null|                   null|                   null|                null|                            null|                            null|                            null|                       null|                    null|                 null|                     null|                   null|                       null|                    null|                        null|                   null|                   null|                   null|                  null|                      null|                      null|                  null|                           null|                         -9999|                         -9999|                           null|                         -9999|                         -9999|                         null|                         null|                          null|                          null|                             null|                             null|\n",
      "|WBAN:94789|JFK INTERNATIONAL...|      3.4| 40.6386| -73.7622|2010-02-10 06:51|     FM-15|  BKN:07 7 OVC:08 27|            1.00|   -SN:03 BR:1 |SN:71 ||                31|              -0.6|                30|              -1.0|                 29|               -1.7|                  92.0|           14.0|               50.0|               null|                29.43|                     6|                null|                 29.45|        0.04|                 29.45|                   null|                   null|                   null|                          null|                        null|                    null|                   null|                  null|                  null|         656|       1724|        null|       0.22|         null|             2|                       null|                        null|                 null|              null|             null|                   null|                       null|              null|              null|           null|            null|               null|              null|                       null|                       null|                  null|                   null|                   null|                null|                            null|                            null|                            null|                       null|                    null|                 null|                     null|                   null|                       null|                    null|                        null|                   null|                   null|                   null|                  null|                      null|                      null|                  null|                           null|                         -9999|                         -9999|                           null|                         -9999|                         -9999|                         null|                         null|                          null|                          null|                             null|                             null|\n",
      "|WBAN:94789|JFK INTERNATIONAL...|      3.4| 40.6386| -73.7622|2010-02-10 09:51|     FM-15|             VV:09 5|            0.50|   SN:03 FZ:8 FG:2 |...|                31|              -0.6|                30|              -1.2|                 28|               -2.2|                  89.0|           21.0|               50.0|                 26|                29.26|                     8|                null|                 29.29|        0.05|                 29.28|                   null|                   null|                   null|                          null|                        null|                    null|                   null|                  null|                  null|         656|       1724|        null|       null|         null|          null|                       null|                        null|                 null|              null|             null|                   null|                       null|              null|              null|           null|            null|               null|              null|                       null|                       null|                  null|                   null|                   null|                null|                            null|                            null|                            null|                       null|                    null|                 null|                     null|                   null|                       null|                    null|                        null|                   null|                   null|                   null|                  null|                      null|                      null|                  null|                           null|                         -9999|                         -9999|                           null|                         -9999|                         -9999|                         null|                         null|                          null|                          null|                             null|                             null|\n",
      "|WBAN:94789|JFK INTERNATIONAL...|      3.4| 40.6386| -73.7622|2010-02-10 12:51|     FM-15|  BKN:07 8 OVC:08 15|            1.50|   -SN:03 PL:06 BR:1...|                31|              -0.6|                30|              -1.2|                 28|               -2.2|                  89.0|           30.0|               40.0|                 39|                29.05|                     8|                null|                 29.07|        0.02|                 29.07|                   null|                   null|                   null|                          null|                        null|                    null|                   null|                  null|                  null|         656|       1724|        null|       null|         null|             4|                       null|                        null|                 null|              null|             null|                   null|                       null|              null|              null|           null|            null|               null|              null|                       null|                       null|                  null|                   null|                   null|                null|                            null|                            null|                            null|                       null|                    null|                 null|                     null|                   null|                       null|                    null|                        null|                   null|                   null|                   null|                  null|                      null|                      null|                  null|                           null|                         -9999|                         -9999|                           null|                         -9999|                         -9999|                         null|                         null|                          null|                          null|                             null|                             null|\n",
      "|WBAN:94789|JFK INTERNATIONAL...|      3.4| 40.6386| -73.7622|2010-02-10 21:51|     FM-15|  BKN:07 5 OVC:08 14|            0.50|   -SN:03 BL:5 SN:03...|                31|              -0.6|                31|              -0.6|                 31|               -0.6|                 100.0|           24.0|              350.0|                 37|                29.19|                     1|                null|                 29.21|        0.02|                 29.21|                   null|                   null|                   null|                          null|                        null|                    null|                   null|                  null|                  null|         654|       1725|        null|       null|         null|          null|                       null|                        null|                 null|              null|             null|                   null|                       null|              null|              null|           null|            null|               null|              null|                       null|                       null|                  null|                   null|                   null|                null|                            null|                            null|                            null|                       null|                    null|                 null|                     null|                   null|                       null|                    null|                        null|                   null|                   null|                   null|                  null|                      null|                      null|                  null|                           null|                         -9999|                         -9999|                           null|                         -9999|                         -9999|                         null|                         null|                          null|                          null|                             null|                             null|\n",
      "|WBAN:94789|JFK INTERNATIONAL...|      3.4| 40.6386| -73.7622|2010-02-16 09:51|     FM-15|  BKN:07 7 OVC:08 18|            1.00|   -SN:03 BR:1 |SN:71 ||                33|               0.6|                32|               0.1|                 31|               -0.6|                  92.0|            7.0|              330.0|               null|                29.43|                     8|                null|                 29.45|        0.01|                 29.45|                   null|                   null|                   null|                          null|                        null|                    null|                   null|                  null|                  null|         648|       1731|        null|       null|         null|          null|                       null|                        null|                 null|              null|             null|                   null|                       null|              null|              null|           null|            null|               null|              null|                       null|                       null|                  null|                   null|                   null|                null|                            null|                            null|                            null|                       null|                    null|                 null|                     null|                   null|                       null|                    null|                        null|                   null|                   null|                   null|                  null|                      null|                      null|                  null|                           null|                         -9999|                         -9999|                           null|                         -9999|                         -9999|                         null|                         null|                          null|                          null|                             null|                             null|\n",
      "|WBAN:94789|JFK INTERNATIONAL...|      3.4| 40.6386| -73.7622|2010-02-23 00:51|     FM-15|           OVC:08 15|           10.00|   -RA:02 |RA:61 |RA:61|                37|               2.8|                35|               1.9|                 33|                0.6|                  86.0|           15.0|              110.0|               null|                29.86|                     8|                null|                 29.88|        0.02|                 29.88|                   null|                   null|                   null|                          null|                        null|                    null|                   null|                  null|                  null|         638|       1739|        null|       null|         null|          null|                       null|                        null|                 null|              null|             null|                   null|                       null|              null|              null|           null|            null|               null|              null|                       null|                       null|                  null|                   null|                   null|                null|                            null|                            null|                            null|                       null|                    null|                 null|                     null|                   null|                       null|                    null|                        null|                   null|                   null|                   null|                  null|                      null|                      null|                  null|                           null|                         -9999|                         -9999|                           null|                         -9999|                         -9999|                         null|                         null|                          null|                          null|                             null|                             null|\n",
      "|WBAN:94789|JFK INTERNATIONAL...|      3.4| 40.6386| -73.7622|2010-02-23 06:51|     FM-15|           OVC:08 10|            7.00|   -RA:02 |RA:61 |RA:61|                36|               2.2|                35|               1.5|                 33|                0.6|                  89.0|           15.0|               70.0|               null|                29.82|                     8|                null|                 29.84|        0.01|                 29.84|                   null|                   null|                   null|                          null|                        null|                    null|                   null|                  null|                  null|         638|       1739|        null|       0.09|         null|          null|                       null|                        null|                 null|              null|             null|                   null|                       null|              null|              null|           null|            null|               null|              null|                       null|                       null|                  null|                   null|                   null|                null|                            null|                            null|                            null|                       null|                    null|                 null|                     null|                   null|                       null|                    null|                        null|                   null|                   null|                   null|                  null|                      null|                      null|                  null|                           null|                         -9999|                         -9999|                           null|                         -9999|                         -9999|                         null|                         null|                          null|                          null|                             null|                             null|\n",
      "|WBAN:94789|JFK INTERNATIONAL...|      3.4| 40.6386| -73.7622|2010-02-23 12:51|     FM-15|           OVC:08 10|            7.00|   -RA:02 |RA:61 |RA:61|                39|               3.9|                38|               3.2|                 36|                2.2|                  89.0|           15.0|               60.0|               null|                29.78|                     6|                null|                 29.81|        0.01|                 29.80|                   null|                   null|                   null|                          null|                        null|                    null|                   null|                  null|                  null|         638|       1739|        null|       null|         null|          null|                       null|                        null|                 null|              null|             null|                   null|                       null|              null|              null|           null|            null|               null|              null|                       null|                       null|                  null|                   null|                   null|                null|                            null|                            null|                            null|                       null|                    null|                 null|                     null|                   null|                       null|                    null|                        null|                   null|                   null|                   null|                  null|                      null|                      null|                  null|                           null|                         -9999|                         -9999|                           null|                         -9999|                         -9999|                         null|                         null|                          null|                          null|                             null|                             null|\n",
      "|WBAN:94789|JFK INTERNATIONAL...|      3.4| 40.6386| -73.7622|2010-02-23 15:51|     FM-15| BKN:07 10 OVC:08 14|            2.50|   RA:02 BR:1 |RA:62...|                39|               3.9|                37|               3.0|                 35|                1.7|                  86.0|           14.0|               50.0|               null|                29.77|                     6|                null|                 29.79|        0.05|                 29.79|                   null|                   null|                   null|                          null|                        null|                    null|                   null|                  null|                  null|         638|       1739|        null|       null|         null|          null|                       null|                        null|                 null|              null|             null|                   null|                       null|              null|              null|           null|            null|               null|              null|                       null|                       null|                  null|                   null|                   null|                null|                            null|                            null|                            null|                       null|                    null|                 null|                     null|                   null|                       null|                    null|                        null|                   null|                   null|                   null|                  null|                      null|                      null|                  null|                           null|                         -9999|                         -9999|                           null|                         -9999|                         -9999|                         null|                         null|                          null|                          null|                             null|                             null|\n",
      "|WBAN:94789|JFK INTERNATIONAL...|      3.4| 40.6386| -73.7622|2010-02-23 18:51|     FM-15|            OVC:08 9|            6.00|   -RA:02 BR:1 |RA:6...|                37|               2.8|                36|               2.1|                 34|                1.1|                  89.0|           17.0|               40.0|               null|                29.76|                     6|                null|                 29.78|        0.08|                 29.78|                   null|                   null|                   null|                          null|                        null|                    null|                   null|                  null|                  null|         638|       1739|        null|       null|         null|          null|                       null|                        null|                 null|              null|             null|                   null|                       null|              null|              null|           null|            null|               null|              null|                       null|                       null|                  null|                   null|                   null|                null|                            null|                            null|                            null|                       null|                    null|                 null|                     null|                   null|                       null|                    null|                        null|                   null|                   null|                   null|                  null|                      null|                      null|                  null|                           null|                         -9999|                         -9999|                           null|                         -9999|                         -9999|                         null|                         null|                          null|                          null|                             null|                             null|\n",
      "|WBAN:94789|JFK INTERNATIONAL...|      3.4| 40.6386| -73.7622|2010-02-23 21:51|     FM-15|  BKN:07 9 OVC:08 16|            5.00|   RA:02 BR:1 |RA:62...|                38|               3.3|                37|               2.6|                 35|                1.7|                  89.0|           15.0|               30.0|               null|                29.72|                     8|                null|                 29.74|         0.1|                 29.74|                   null|                   null|                   null|                          null|                        null|                    null|                   null|                  null|                  null|         637|       1740|        null|       null|         null|          null|                       null|                        null|                 null|              null|             null|                   null|                       null|              null|              null|           null|            null|               null|              null|                       null|                       null|                  null|                   null|                   null|                null|                            null|                            null|                            null|                       null|                    null|                 null|                     null|                   null|                       null|                    null|                        null|                   null|                   null|                   null|                  null|                      null|                      null|                  null|                           null|                         -9999|                         -9999|                           null|                         -9999|                         -9999|                         null|                         null|                          null|                          null|                             null|                             null|\n",
      "+----------+--------------------+---------+--------+---------+----------------+----------+--------------------+----------------+-----------------------+------------------+------------------+------------------+------------------+-------------------+-------------------+----------------------+---------------+-------------------+-------------------+---------------------+----------------------+--------------------+----------------------+------------+----------------------+-----------------------+-----------------------+-----------------------+------------------------------+----------------------------+------------------------+-----------------------+----------------------+----------------------+------------+-----------+------------+-----------+-------------+--------------+---------------------------+----------------------------+---------------------+------------------+-----------------+-----------------------+---------------------------+------------------+------------------+---------------+----------------+-------------------+------------------+---------------------------+---------------------------+----------------------+-----------------------+-----------------------+--------------------+--------------------------------+--------------------------------+--------------------------------+---------------------------+------------------------+---------------------+-------------------------+-----------------------+---------------------------+------------------------+----------------------------+-----------------------+-----------------------+-----------------------+----------------------+--------------------------+--------------------------+----------------------+-------------------------------+------------------------------+------------------------------+-------------------------------+------------------------------+------------------------------+-----------------------------+-----------------------------+------------------------------+------------------------------+---------------------------------+---------------------------------+\n",
      "only showing top 20 rows\n",
      "\n"
     ]
    }
   ],
   "source": [
    "df_filtered.show()"
   ]
  },
  {
   "cell_type": "code",
   "execution_count": 5,
   "metadata": {},
   "outputs": [],
   "source": [
    "splits = df_filtered.randomSplit([0.8, 0.2])\n",
    "df_train = splits[0]\n",
    "df_test = splits[1]"
   ]
  },
  {
   "cell_type": "markdown",
   "metadata": {},
   "source": [
    "Again, we can re-use our feature engineering pipeline"
   ]
  },
  {
   "cell_type": "code",
   "execution_count": 6,
   "metadata": {},
   "outputs": [],
   "source": [
    "from pyspark.ml.feature import StringIndexer, OneHotEncoder\n",
    "from pyspark.ml.linalg import Vectors\n",
    "from pyspark.ml.feature import VectorAssembler\n",
    "from pyspark.ml.feature import Normalizer\n",
    "from pyspark.ml import Pipeline\n",
    "\n",
    "vectorAssembler = VectorAssembler(inputCols=[\n",
    "                                    \"HOURLYWindDirection\",\n",
    "                                    \"ELEVATION\",\n",
    "                                    \"HOURLYStationPressure\"],\n",
    "                                  outputCol=\"features\")\n",
    "\n",
    "normalizer = Normalizer(inputCol=\"features\", outputCol=\"features_norm\", p=1.0)"
   ]
  },
  {
   "cell_type": "markdown",
   "metadata": {},
   "source": [
    "Define a function for evaluating our regression prediction performance. Note: Use RMSE (Root Mean Squared Error) here , the smaller the better…\n",
    "\n"
   ]
  },
  {
   "cell_type": "code",
   "execution_count": 7,
   "metadata": {},
   "outputs": [],
   "source": [
    "def regression_metrics(prediction):\n",
    "    from pyspark.ml.evaluation import RegressionEvaluator\n",
    "    evaluator = RegressionEvaluator(\n",
    "    labelCol=\"HOURLYWindSpeed\", predictionCol=\"prediction\", metricName=\"rmse\")\n",
    "    rmse = evaluator.evaluate(prediction)\n",
    "    print(\"RMSE on test data = %g\" % rmse)"
   ]
  },
  {
   "cell_type": "markdown",
   "metadata": {},
   "source": [
    "Run a linear regression model first for building a baseline.\n",
    "\n"
   ]
  },
  {
   "cell_type": "code",
   "execution_count": 16,
   "metadata": {},
   "outputs": [
    {
     "name": "stdout",
     "output_type": "stream",
     "text": [
      "RMSE on test data = 1.13717\n"
     ]
    }
   ],
   "source": [
    "#LR1\n",
    "\n",
    "from pyspark.ml.regression import LinearRegression\n",
    "\n",
    "\n",
    "lr = LinearRegression(labelCol=\"HOURLYWindSpeed\", featuresCol='features_norm', maxIter=100, regParam=0.0, elasticNetParam=0.0)\n",
    "pipeline = Pipeline(stages=[vectorAssembler, normalizer,lr])\n",
    "model = pipeline.fit(df_train)\n",
    "prediction = model.transform(df_test)\n",
    "regression_metrics(prediction)"
   ]
  },
  {
   "cell_type": "markdown",
   "metadata": {},
   "source": [
    "Try a Gradient Boosted Tree Regressor"
   ]
  },
  {
   "cell_type": "code",
   "execution_count": 9,
   "metadata": {},
   "outputs": [
    {
     "name": "stdout",
     "output_type": "stream",
     "text": [
      "RMSE on test data = 7.01428\n"
     ]
    }
   ],
   "source": [
    "#GBT1\n",
    "\n",
    "from pyspark.ml.regression import GBTRegressor\n",
    "gbt = GBTRegressor(labelCol=\"HOURLYWindSpeed\", maxIter=100)\n",
    "pipeline = Pipeline(stages=[vectorAssembler, normalizer,gbt])\n",
    "model = pipeline.fit(df_train)\n",
    "prediction = model.transform(df_test)\n",
    "regression_metrics(prediction)"
   ]
  },
  {
   "cell_type": "markdown",
   "metadata": {},
   "source": [
    "Now let’s switch gears. Previously, we tried to predict HOURLYWindSpeed, but now we predict HOURLYWindDirection. In order to turn this into a classification problem, discretize the value using the Bucketizer. Let the new feature be called HOURLYWindDirectionBucketized."
   ]
  },
  {
   "cell_type": "code",
   "execution_count": 10,
   "metadata": {},
   "outputs": [],
   "source": [
    "from pyspark.ml.feature import Bucketizer, OneHotEncoder\n",
    "\n",
    "bucketizer = Bucketizer(splits=[ 0, 180, float('Inf') ],inputCol=\"HOURLYWindDirection\", outputCol=\"HOURLYWindDirectionBucketized\")\n",
    "\n",
    "encoder = OneHotEncoder(inputCol=\"HOURLYWindDirectionBucketized\", outputCol=\"HOURLYWindDirectionOHE\")\n"
   ]
  },
  {
   "cell_type": "markdown",
   "metadata": {},
   "source": [
    "Again, we define a function in order to assess how we perform. Here we just use the accuracy measure which gives us the fraction of correctly classified examples. Again, 0 is bad, 1 is good."
   ]
  },
  {
   "cell_type": "code",
   "execution_count": 11,
   "metadata": {},
   "outputs": [],
   "source": [
    "def classification_metrics(prediction):\n",
    "    from pyspark.ml.evaluation import MulticlassClassificationEvaluator\n",
    "    mcEval = MulticlassClassificationEvaluator().setMetricName(\"accuracy\") .setPredictionCol(\"prediction\").setLabelCol(\"HOURLYWindDirectionBucketized\")\n",
    "    accuracy = mcEval.evaluate(prediction)\n",
    "    print(\"Accuracy on test data = %g\" % accuracy)"
   ]
  },
  {
   "cell_type": "markdown",
   "metadata": {},
   "source": [
    "Again, for baselining use LogisticRegression."
   ]
  },
  {
   "cell_type": "code",
   "execution_count": 12,
   "metadata": {},
   "outputs": [
    {
     "name": "stdout",
     "output_type": "stream",
     "text": [
      "Accuracy on test data = 0.613208\n"
     ]
    }
   ],
   "source": [
    "#LGReg1\n",
    "\n",
    "from pyspark.ml.classification import LogisticRegression\n",
    "lr = LogisticRegression(labelCol=\"HOURLYWindDirectionBucketized\", maxIter=10)\n",
    "#,\"ELEVATION\",\"HOURLYStationPressure\",\"HOURLYPressureTendency\",\"HOURLYPrecip\"\n",
    "\n",
    "vectorAssembler = VectorAssembler(inputCols=[\"HOURLYWindSpeed\",\"HOURLYDRYBULBTEMPC\"],\n",
    "                                  outputCol=\"features\")\n",
    "\n",
    "pipeline = Pipeline(stages=[bucketizer,vectorAssembler,normalizer,lr])\n",
    "model = pipeline.fit(df_train)\n",
    "prediction = model.transform(df_test)\n",
    "classification_metrics(prediction)"
   ]
  },
  {
   "cell_type": "markdown",
   "metadata": {},
   "source": [
    "Let’s try some other Algorithms and see if model performance increases. It’s also important to tweak other parameters like parameters of individual algorithms (e.g. number of trees for RandomForest) or parameters in the feature engineering pipeline, e.g. train/test split ratio, normalization, bucketing, …"
   ]
  },
  {
   "cell_type": "markdown",
   "metadata": {},
   "source": [
    "Run RandomForest Classifier"
   ]
  },
  {
   "cell_type": "code",
   "execution_count": 17,
   "metadata": {},
   "outputs": [
    {
     "name": "stdout",
     "output_type": "stream",
     "text": [
      "Accuracy on test data = 0.669811\n"
     ]
    }
   ],
   "source": [
    "#RF1\n",
    "\n",
    "from pyspark.ml.classification import RandomForestClassifier\n",
    "rf = RandomForestClassifier(labelCol=\"HOURLYWindDirectionBucketized\", numTrees=10)\n",
    "\n",
    "vectorAssembler = VectorAssembler(inputCols=[\"HOURLYWindSpeed\",\"HOURLYDRYBULBTEMPC\",\"ELEVATION\",\"HOURLYStationPressure\",\"HOURLYPressureTendency\",\"HOURLYPrecip\"],\n",
    "                                  outputCol=\"features\")\n",
    "\n",
    "pipeline = Pipeline(stages=[bucketizer,vectorAssembler,normalizer,rf])\n",
    "model = pipeline.fit(df_train)\n",
    "prediction = model.transform(df_test)\n",
    "classification_metrics(prediction)"
   ]
  },
  {
   "cell_type": "markdown",
   "metadata": {},
   "source": [
    "Run GradientBoost"
   ]
  },
  {
   "cell_type": "code",
   "execution_count": 14,
   "metadata": {},
   "outputs": [
    {
     "name": "stdout",
     "output_type": "stream",
     "text": [
      "Accuracy on test data = 0.688679\n"
     ]
    }
   ],
   "source": [
    "#GBT2\n",
    "\n",
    "from pyspark.ml.classification import GBTClassifier\n",
    "gbt = GBTClassifier(labelCol=\"HOURLYWindDirectionBucketized\", maxIter=100)\n",
    "\n",
    "vectorAssembler = VectorAssembler(inputCols=[\"HOURLYWindSpeed\",\"HOURLYDRYBULBTEMPC\",\"ELEVATION\",\"HOURLYStationPressure\",\"HOURLYPressureTendency\",\"HOURLYPrecip\"],\n",
    "                                  outputCol=\"features\")\n",
    "\n",
    "pipeline = Pipeline(stages=[bucketizer,vectorAssembler,normalizer,gbt])\n",
    "model = pipeline.fit(df_train)\n",
    "prediction = model.transform(df_test)\n",
    "classification_metrics(prediction)"
   ]
  },
  {
   "cell_type": "markdown",
   "metadata": {},
   "source": [
    "For completing the assignment, answer the questions in Coursera "
   ]
  }
 ],
 "metadata": {
  "kernelspec": {
   "display_name": "Python 3.6 with Spark",
   "language": "python3",
   "name": "python36"
  },
  "language_info": {
   "codemirror_mode": {
    "name": "ipython",
    "version": 3
   },
   "file_extension": ".py",
   "mimetype": "text/x-python",
   "name": "python",
   "nbconvert_exporter": "python",
   "pygments_lexer": "ipython3",
   "version": "3.6.8"
  }
 },
 "nbformat": 4,
 "nbformat_minor": 1
}
